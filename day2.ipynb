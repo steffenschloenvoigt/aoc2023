{
 "cells": [
  {
   "cell_type": "markdown",
   "metadata": {},
   "source": [
    "# Day 2: Cube Conundrum \n",
    "You're launched high into the atmosphere! The apex of your trajectory just barely reaches the surface of a large island floating in the sky. You gently land in a fluffy pile of leaves. It's quite cold, but you don't see much snow. An Elf runs over to greet you.\n",
    "\n",
    "The Elf explains that you've arrived at Snow Island and apologizes for the lack of snow. He'll be happy to explain the situation, but it's a bit of a walk, so you have some time. They don't get many visitors up here; would you like to play a game in the meantime?\n",
    "\n",
    "As you walk, the Elf shows you a small bag and some cubes which are either red, green, or blue. Each time you play this game, he will hide a secret number of cubes of each color in the bag, and your goal is to figure out information about the number of cubes.\n",
    "\n",
    "To get information, once a bag has been loaded with cubes, the Elf will reach into the bag, grab a handful of random cubes, show them to you, and then put them back in the bag. He'll do this a few times per game.\n",
    "\n",
    "You play several games and record the information from each game (your puzzle input). Each game is listed with its ID number (like the 11 in Game 11: ...) followed by a semicolon-separated list of subsets of cubes that were revealed from the bag (like 3 red, 5 green, 4 blue).\n",
    "\n",
    "For example, the record of a few games might look like this:\n",
    "\n",
    "```\n",
    "Game 1: 3 blue, 4 red; 1 red, 2 green, 6 blue; 2 green\n",
    "Game 2: 1 blue, 2 green; 3 green, 4 blue, 1 red; 1 green, 1 blue\n",
    "Game 3: 8 green, 6 blue, 20 red; 5 blue, 4 red, 13 green; 5 green, 1 red\n",
    "Game 4: 1 green, 3 red, 6 blue; 3 green, 6 red; 3 green, 15 blue, 14 red\n",
    "Game 5: 6 red, 1 blue, 3 green; 2 blue, 1 red, 2 green\n",
    "```\n",
    "In game 1, three sets of cubes are revealed from the bag (and then put back again). The first set is 3 blue cubes and 4 red cubes; the second set is 1 red cube, 2 green cubes, and 6 blue cubes; the third set is only 2 green cubes.\n",
    "\n",
    "The Elf would first like to know which games would have been possible if the bag contained only 12 red cubes, 13 green cubes, and 14 blue cubes?\n",
    "\n",
    "In the example above, games 1, 2, and 5 would have been possible if the bag had been loaded with that configuration. However, game 3 would have been impossible because at one point the Elf showed you 20 red cubes at once; similarly, game 4 would also have been impossible because the Elf showed you 15 blue cubes at once. If you add up the IDs of the games that would have been possible, you get 8.\n",
    "\n",
    "Determine which games would have been possible if the bag had been loaded with only 12 red cubes, 13 green cubes, and 14 blue cubes. What is the sum of the IDs of those games?"
   ]
  },
  {
   "cell_type": "code",
   "execution_count": 52,
   "metadata": {},
   "outputs": [],
   "source": [
    "class Evaluation:\n",
    "    def __init__(self) -> None:\n",
    "        self.games = []\n",
    "    \n",
    "    def parse( self, document ):\n",
    "        self.games = []\n",
    "        documentLines = document.split( '\\n' )    \n",
    "        for line in documentLines:\n",
    "            splittedLine = line.split(':')\n",
    "            gameId = int(  splittedLine[0].split(' ')[1] )\n",
    "            setStrings = splittedLine[1].split( ';' )\n",
    "            sets = []\n",
    "            for setString in setStrings:\n",
    "                setContent = { \"red\":0, \"green\":0, \"blue\":0 }\n",
    "                for setItem in setString.split(','):\n",
    "                    setItemSplitted = setItem.split(' ')\n",
    "                    setContent[setItemSplitted[2]] += int(setItemSplitted[1])\n",
    "                sets.append( setContent )\n",
    "            self.games.append( { \"id\": gameId, \"sets\": sets } )\n",
    "        \n",
    "    \n",
    "    def isSetValid( setContent ):    \n",
    "        if(setContent['red'] > 12 ): return False\n",
    "        if(setContent['green'] > 13 ): return False\n",
    "        if(setContent['blue'] > 14 ): return False\n",
    "        return True\n",
    "\n",
    "    def getLineValue( game ):            \n",
    "        for set in game['sets']:        \n",
    "            if not Evaluation.isSetValid( set ):\n",
    "                return 0    \n",
    "        return game['id']           \n",
    "    \n",
    "    def getMinSetOfGame( game ):\n",
    "        minSet = { 'red':0, 'green':0, 'blue':0 }\n",
    "        for set in game['sets']:\n",
    "            if set['red'] > minSet['red']: minSet['red'] = set['red']\n",
    "            if set['green'] > minSet['green']: minSet['green'] = set['green']\n",
    "            if set['blue'] > minSet['blue']: minSet['blue'] = set['blue']\n",
    "        return minSet\n",
    "   \n",
    "    def getPowerOfSet( set ):\n",
    "        return set['red']*set['green']*set['blue']\n",
    "   \n",
    "    def getSumOfMinPowersOfGame( self ):\n",
    "        total = 0.\n",
    "        for game in self.games:\n",
    "            gameMinSet = Evaluation.getMinSetOfGame( game )\n",
    "            gamePower = Evaluation.getPowerOfSet( gameMinSet )\n",
    "            total += gamePower\n",
    "   \n",
    "    def getSumOfIds( self ):\n",
    "        total = 0        \n",
    "        for game in self.games:\n",
    "            total += Evaluation.getLineValue( game )\n",
    "        return total\n"
   ]
  },
  {
   "cell_type": "markdown",
   "metadata": {},
   "source": [
    "## Unit Tests"
   ]
  },
  {
   "cell_type": "code",
   "execution_count": 42,
   "metadata": {},
   "outputs": [
    {
     "name": "stderr",
     "output_type": "stream",
     "text": [
      "testGame1 (__main__.TestGetLineValue) ... ok\n",
      "testGame2 (__main__.TestGetLineValue) ... ok\n",
      "testGame3 (__main__.TestGetLineValue) ... ok\n",
      "testGame4 (__main__.TestGetLineValue) ... ok\n",
      "testGame5 (__main__.TestGetLineValue) ... ok\n",
      "testGetSumOfIdsSampleCase (__main__.TestGetSumOfIds) ... ok\n",
      "\n",
      "----------------------------------------------------------------------\n",
      "Ran 6 tests in 0.011s\n",
      "\n",
      "OK\n"
     ]
    },
    {
     "data": {
      "text/plain": [
       "<unittest.main.TestProgram at 0x15283209340>"
      ]
     },
     "execution_count": 42,
     "metadata": {},
     "output_type": "execute_result"
    }
   ],
   "source": [
    "import unittest\n",
    "\n",
    "class TestGetLineValue(unittest.TestCase):\n",
    "    def testGame1(self):\n",
    "        self.assertEqual( Evaluation.getLineValue( { \"id\": 1, \"sets\": [ { \"red\": 4, \"green\": 0, \"blue\": 3 },{ \"red\": 1, \"green\": 2, \"blue\": 6 },{ \"red\":0, \"green\": 2, \"blue\": 0 } ] } ), 1 )\n",
    "    def testGame2(self):\n",
    "        self.assertEqual( Evaluation.getLineValue( { \"id\": 2, \"sets\": [ { \"red\": 0, \"green\": 2, \"blue\": 1 },{ \"red\": 1, \"green\": 3, \"blue\": 4 },{ \"red\":0, \"green\": 0, \"blue\": 1 } ] } ), 2 )\n",
    "        #self.assertEqual( getLineValue( 'Game 2: 1 blue, 2 green; 3 green, 4 blue, 1 red; 1 green, 1 blue' ), 2 )\n",
    "    def testGame3(self):\n",
    "        self.assertEqual( Evaluation.getLineValue( { \"id\": 3, \"sets\": [ { \"red\": 20, \"green\": 8, \"blue\": 6 },{ \"red\": 4, \"green\": 13, \"blue\": 5 },{ \"red\":1, \"green\": 5, \"blue\": 0 } ] } ), 0 )\n",
    "        #self.assertEqual( getLineValue( 'Game 3: 8 green, 6 blue, 20 red; 5 blue, 4 red, 13 green; 5 green, 1 red' ), 0 )\n",
    "    def testGame4(self):\n",
    "        self.assertEqual( Evaluation.getLineValue( { \"id\": 4, \"sets\": [ { \"red\": 3, \"green\": 1, \"blue\": 6 },{ \"red\": 6, \"green\": 3, \"blue\": 0 },{ \"red\":14, \"green\": 0, \"blue\": 15 } ] } ), 0 )\n",
    "        #self.assertEqual( getLineValue( 'Game 4: 1 green, 3 red, 6 blue; 3 green, 6 red; 3 green, 15 blue, 14 red' ), 0 )\n",
    "    def testGame5(self):\n",
    "        self.assertEqual( Evaluation.getLineValue( { \"id\": 5, \"sets\": [ { \"red\": 6, \"green\": 3, \"blue\": 1 },{ \"red\": 1, \"green\": 2, \"blue\": 2 } ] } ), 5 )\n",
    "        #self.assertEqual( getLineValue( 'Game 5: 6 red, 1 blue, 3 green; 2 blue, 1 red, 2 green' ), 5 )\n",
    "        \n",
    "class TestGetSumOfIds(unittest.TestCase):\n",
    "    def setUp(self):\n",
    "        self.cut = Evaluation(  )\n",
    "        \n",
    "    def testGetSumOfIdsSampleCase(self):        \n",
    "        self.cut.parse( '''Game 1: 3 blue, 4 red; 1 red, 2 green, 6 blue; 2 green\n",
    "Game 2: 1 blue, 2 green; 3 green, 4 blue, 1 red; 1 green, 1 blue\n",
    "Game 3: 8 green, 6 blue, 20 red; 5 blue, 4 red, 13 green; 5 green, 1 red\n",
    "Game 4: 1 green, 3 red, 6 blue; 3 green, 6 red; 3 green, 15 blue, 14 red\n",
    "Game 5: 6 red, 1 blue, 3 green; 2 blue, 1 red, 2 green''' )\n",
    "        self.assertEqual( self.cut.getSumOfIds( ), 8 )\n",
    "\n",
    "unittest.main(argv=[''], verbosity=2, exit=False )\n"
   ]
  },
  {
   "cell_type": "markdown",
   "metadata": {},
   "source": [
    "## Solution"
   ]
  },
  {
   "cell_type": "code",
   "execution_count": 43,
   "metadata": {},
   "outputs": [
    {
     "name": "stdout",
     "output_type": "stream",
     "text": [
      "2331\n"
     ]
    }
   ],
   "source": [
    "f = open(\"day2_input.txt\", 'r') \n",
    "document = f.read() \n",
    "eval = Evaluation( )\n",
    "eval.parse( document )   \n",
    "print( eval.getSumOfIds(  ) )"
   ]
  },
  {
   "cell_type": "markdown",
   "metadata": {},
   "source": [
    "## Part 2\n",
    "\n",
    "The Elf says they've stopped producing snow because they aren't getting any water! He isn't sure why the water stopped; however, he can show you how to get to the water source to check it out for yourself. It's just up ahead!\n",
    "\n",
    "As you continue your walk, the Elf poses a second question: in each game you played, what is the fewest number of cubes of each color that could have been in the bag to make the game possible?\n",
    "\n",
    "Again consider the example games from earlier:\n",
    "\n",
    "```\n",
    "Game 1: 3 blue, 4 red; 1 red, 2 green, 6 blue; 2 green\n",
    "Game 2: 1 blue, 2 green; 3 green, 4 blue, 1 red; 1 green, 1 blue\n",
    "Game 3: 8 green, 6 blue, 20 red; 5 blue, 4 red, 13 green; 5 green, 1 red\n",
    "Game 4: 1 green, 3 red, 6 blue; 3 green, 6 red; 3 green, 15 blue, 14 red\n",
    "Game 5: 6 red, 1 blue, 3 green; 2 blue, 1 red, 2 green\n",
    "```\n",
    "\n",
    "* In game 1, the game could have been played with as few as 4 red, 2 green, and 6 blue cubes. If any color had even one fewer cube, the game would have been impossible.\n",
    "* Game 2 could have been played with a minimum of 1 red, 3 green, and 4 blue cubes.\n",
    "* Game 3 must have been played with at least 20 red, 13 green, and 6 blue cubes.\n",
    "* Game 4 required at least 14 red, 3 green, and 15 blue cubes.\n",
    "* Game 5 needed no fewer than 6 red, 3 green, and 2 blue cubes in the bag.\n",
    "  \n",
    "The power of a set of cubes is equal to the numbers of red, green, and blue cubes multiplied together.\n",
    "\n",
    "The power of the minimum set of cubes in game 1 is 48. In games 2-5 it was 12, 1560, 630, and 36, respectively. Adding up these five powers produces the sum 2286.\n",
    "\n",
    "For each game, find the minimum set of cubes that must have been present. What is the sum of the power of these sets?\n",
    "\n",
    "### Unit Test"
   ]
  },
  {
   "cell_type": "code",
   "execution_count": 53,
   "metadata": {},
   "outputs": [
    {
     "name": "stderr",
     "output_type": "stream",
     "text": [
      "testGame1 (__main__.TestGetLineValue) ... ok\n",
      "testGame2 (__main__.TestGetLineValue) ... ok\n",
      "testGame3 (__main__.TestGetLineValue) ... ok\n",
      "testGame4 (__main__.TestGetLineValue) ... ok\n",
      "testGame5 (__main__.TestGetLineValue) ... ok\n",
      "testGame1 (__main__.TestGetMinSetOfGame) ... ok\n",
      "testGame2 (__main__.TestGetMinSetOfGame) ... ok\n",
      "testGame3 (__main__.TestGetMinSetOfGame) ... ok\n",
      "testGame4 (__main__.TestGetMinSetOfGame) ... ok\n",
      "testGame5 (__main__.TestGetMinSetOfGame) ... ok\n",
      "testGame1 (__main__.TestGetPowerOfSet) ... ok\n",
      "testGetSumOfIdsSampleCase (__main__.TestGetSumOfIds) ... ok\n",
      "\n",
      "----------------------------------------------------------------------\n",
      "Ran 12 tests in 0.014s\n",
      "\n",
      "OK\n"
     ]
    },
    {
     "data": {
      "text/plain": [
       "<unittest.main.TestProgram at 0x152846975b0>"
      ]
     },
     "execution_count": 53,
     "metadata": {},
     "output_type": "execute_result"
    }
   ],
   "source": [
    "class TestGetMinSetOfGame(unittest.TestCase):\n",
    "    def testGame1(self):\n",
    "        self.assertEqual( Evaluation.getMinSetOfGame( { \"id\": 1, \"sets\": [ { \"red\": 4, \"green\": 0, \"blue\": 3 },{ \"red\": 1, \"green\": 2, \"blue\": 6 },{ \"red\":0, \"green\": 2, \"blue\": 0 } ] } ), \n",
    "                         { 'red':4, 'green':2, 'blue':6 } )\n",
    "    def testGame2(self):\n",
    "        self.assertEqual( Evaluation.getMinSetOfGame( { \"id\": 2, \"sets\": [ { \"red\": 0, \"green\": 2, \"blue\": 1 },{ \"red\": 1, \"green\": 3, \"blue\": 4 },{ \"red\":0, \"green\": 0, \"blue\": 1 } ] } ),\n",
    "                         { 'red':1, 'green':3, 'blue':4 } )\n",
    "        #self.assertEqual( getLineValue( 'Game 2: 1 blue, 2 green; 3 green, 4 blue, 1 red; 1 green, 1 blue' ), 2 )\n",
    "    def testGame3(self):\n",
    "        self.assertEqual( Evaluation.getMinSetOfGame( { \"id\": 3, \"sets\": [ { \"red\": 20, \"green\": 8, \"blue\": 6 },{ \"red\": 4, \"green\": 13, \"blue\": 5 },{ \"red\":1, \"green\": 5, \"blue\": 0 } ] } ), \n",
    "                         { 'red':20, 'green':13, 'blue':6 } )\n",
    "        #self.assertEqual( getLineValue( 'Game 3: 8 green, 6 blue, 20 red; 5 blue, 4 red, 13 green; 5 green, 1 red' ), 0 )\n",
    "    def testGame4(self):\n",
    "        self.assertEqual( Evaluation.getMinSetOfGame( { \"id\": 4, \"sets\": [ { \"red\": 3, \"green\": 1, \"blue\": 6 },{ \"red\": 6, \"green\": 3, \"blue\": 0 },{ \"red\":14, \"green\": 0, \"blue\": 15 } ] } ), \n",
    "                         { 'red':14, 'green':3, 'blue':15 } )\n",
    "        #self.assertEqual( getLineValue( 'Game 4: 1 green, 3 red, 6 blue; 3 green, 6 red; 3 green, 15 blue, 14 red' ), 0 )\n",
    "    def testGame5(self):\n",
    "        self.assertEqual( Evaluation.getMinSetOfGame( { \"id\": 5, \"sets\": [ { \"red\": 6, \"green\": 3, \"blue\": 1 },{ \"red\": 1, \"green\": 2, \"blue\": 2 } ] } ), \n",
    "                         { 'red':6, 'green':3, 'blue':2 } )\n",
    "        #self.assertEqual( getLineValue( 'Game 5: 6 red, 1 blue, 3 green; 2 blue, 1 red, 2 green' ), 5 )\n",
    "\n",
    "class TestGetPowerOfSet(unittest.TestCase):\n",
    "    def testGame1(self):\n",
    "        self.assertEqual( Evaluation.getPowerOfSet( { 'red':4, 'green':2, 'blue':6 } ), 48 )\n",
    "        \n",
    "class TestGetSumOfPowers(unittest.TestProgram)\n",
    "    def testSample(self):\n",
    "        cut = Evaluation\n",
    "        cut.parse( '''Game 1: 3 blue, 4 red; 1 red, 2 green, 6 blue; 2 green\n",
    "Game 2: 1 blue, 2 green; 3 green, 4 blue, 1 red; 1 green, 1 blue\n",
    "Game 3: 8 green, 6 blue, 20 red; 5 blue, 4 red, 13 green; 5 green, 1 red\n",
    "Game 4: 1 green, 3 red, 6 blue; 3 green, 6 red; 3 green, 15 blue, 14 red\n",
    "Game 5: 6 red, 1 blue, 3 green; 2 blue, 1 red, 2 green''' )\n",
    "        self.assertEqual( cut.getSumOfMinPowersOfGame(), 2286 )\n",
    "        \n",
    "unittest.main(argv=[''], verbosity=2, exit=False )\n"
   ]
  }
 ],
 "metadata": {
  "kernelspec": {
   "display_name": "Python 3",
   "language": "python",
   "name": "python3"
  },
  "language_info": {
   "codemirror_mode": {
    "name": "ipython",
    "version": 3
   },
   "file_extension": ".py",
   "mimetype": "text/x-python",
   "name": "python",
   "nbconvert_exporter": "python",
   "pygments_lexer": "ipython3",
   "version": "3.9.6"
  }
 },
 "nbformat": 4,
 "nbformat_minor": 2
}
