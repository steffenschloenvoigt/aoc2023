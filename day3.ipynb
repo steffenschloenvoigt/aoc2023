{
 "cells": [
  {
   "cell_type": "markdown",
   "metadata": {},
   "source": [
    "# Day 3: Gear Ratios\n",
    "\n",
    "You and the Elf eventually reach a gondola lift station; he says the gondola lift will take you up to the water source, but this is as far as he can bring you. You go inside.\n",
    "\n",
    "It doesn't take long to find the gondolas, but there seems to be a problem: they're not moving.\n",
    "\n",
    "\"Aaah!\"\n",
    "\n",
    "You turn around to see a slightly-greasy Elf with a wrench and a look of surprise. \"Sorry, I wasn't expecting anyone! The gondola lift isn't working right now; it'll still be a while before I can fix it.\" You offer to help.\n",
    "\n",
    "## Part 1\n",
    "\n",
    "The engineer explains that an engine part seems to be missing from the engine, but nobody can figure out which one. If you can add up all the part numbers in the engine schematic, it should be easy to work out which part is missing.\n",
    "\n",
    "The engine schematic (your puzzle input) consists of a visual representation of the engine. There are lots of numbers and symbols you don't really understand, but apparently any number adjacent to a symbol, even diagonally, is a \"part number\" and should be included in your sum. (Periods (.) do not count as a symbol.)\n",
    "\n",
    "Here is an example engine schematic:\n",
    "\n",
    "```\n",
    "467..114..\n",
    "...*......\n",
    "..35..633.\n",
    "......#...\n",
    "617*......\n",
    ".....+.58.\n",
    "..592.....\n",
    "......755.\n",
    "...$.*....\n",
    ".664.598..\n",
    "```\n",
    "\n",
    "In this schematic, two numbers are not part numbers because they are not adjacent to a symbol: 114 (top right) and 58 (middle right). Every other number is adjacent to a symbol and so is a part number; their sum is 4361.\n",
    "\n",
    "Of course, the actual engine schematic is much larger. What is the sum of all of the part numbers in the engine schematic?\n",
    "\n",
    "\n",
    "### Code"
   ]
  },
  {
   "cell_type": "code",
   "execution_count": 70,
   "metadata": {},
   "outputs": [],
   "source": [
    "%reload_ext ipython_unittest\n",
    "\n",
    "class Solver:\n",
    "    def __init__(self):\n",
    "        self.foundNumbers = []\n",
    "        self.symbols = []\n",
    "        self.possibleGears = []\n",
    "    \n",
    "    def parse( self, document ):\n",
    "        documentLines = document.split( '\\n' )            \n",
    "        y = 0\n",
    "        numberBuffer = \"\"\n",
    "        for line in documentLines:\n",
    "            symbolLine = []                       \n",
    "            x = 0                                  \n",
    "            for char in line:\n",
    "                isCharSymbol = False                \n",
    "                if char.isnumeric( ):\n",
    "                    numberBuffer += char                    \n",
    "                else:\n",
    "                    if numberBuffer != \"\":\n",
    "                        self.foundNumbers.append( { 'num': int( numberBuffer ), 'x': x - len(numberBuffer), 'y':y, 'length': len( numberBuffer ) } )\n",
    "                        numberBuffer = \"\"\n",
    "                    if char != '.':\n",
    "                        isCharSymbol = True\n",
    "                        if char == '*':\n",
    "                            self.possibleGears.append( { 'x': x, 'y':y } )\n",
    "                symbolLine.append( isCharSymbol )    \n",
    "                x += 1\n",
    "            self.symbols.append( symbolLine )\n",
    "            if numberBuffer != \"\":\n",
    "                self.foundNumbers.append( { 'num': int( numberBuffer ), 'x': x- len(numberBuffer), 'y':y, 'length': len( numberBuffer ) } )\n",
    "                numberBuffer = \"\"            \n",
    "            y += 1\n",
    "        #print( self.symbols )\n",
    "        \n",
    "    def getHitRangeOfNumber(self, foundNumber ):\n",
    "        return { 'yStart': max( 0, foundNumber['y']-1 ),\n",
    "                 'xStart': max( 0, foundNumber['x']-1 ) ,       \n",
    "                 'yEnd' : min( len( self.symbols )-1, foundNumber['y']+1 ),\n",
    "                 'xEnd' : min( len( self.symbols[ 0 ] )-1, foundNumber['x'] + foundNumber[ 'length'] ) }\n",
    "\n",
    "    def isPartNumber( self, foundNumber ):        \n",
    "        hitRange = self.getHitRangeOfNumber( foundNumber )\n",
    "        #print(foundNumber)\n",
    "        #print( {'yStart':yStart, 'yEnd':yEnd, 'xStart':xStart, 'xEnd':xEnd } )\n",
    "        for y in range( hitRange['yStart'], hitRange['yEnd']+1 ):\n",
    "            for x in range ( hitRange['xStart'], hitRange['xEnd']+1 ):\n",
    "                #print( { 'y':y, 'x':x, 'symbol':self.symbols[y][x] } )\n",
    "                if self.symbols[y][x] == True:\n",
    "                    #print( 'Found part number '+ str( foundNumber['num'] ) )\n",
    "                    return True\n",
    "        # print( 'Not a part number '+ str( foundNumber['num'] ) )\n",
    "        return False\n",
    "        \n",
    "\n",
    "    def getPart1Solution(self):\n",
    "        solution = 0\n",
    "        for foundNumber in self.foundNumbers:\n",
    "            if self.isPartNumber( foundNumber ): solution += foundNumber[ 'num' ]\n",
    "        return solution\n",
    "    \n",
    "    def isPartAttachedToGear( self, part, gear ):\n",
    "        hitRange = self.getHitRangeOfNumber( part )\n",
    "        if gear['x'] >= hitRange['xStart'] and gear['x'] <= hitRange['xEnd'] and gear['y'] >= hitRange['yStart'] and gear['y'] <= hitRange['yEnd']:\n",
    "               return True\n",
    "        return False\n",
    "    \n",
    "    def getAdjacentPartsOfGear( self, gear ):\n",
    "        parts = []\n",
    "        for foundNumber in self.foundNumbers:\n",
    "            if self.isPartNumber( foundNumber ):\n",
    "                if self.isPartAttachedToGear( foundNumber, gear ):\n",
    "                    parts.append( foundNumber['num'] )\n",
    "        return parts\n",
    "    \n",
    "    def getPart2Solution(self):\n",
    "        solution = 0\n",
    "        for possibleGear in self.possibleGears:\n",
    "            adjacentParts = self.getAdjacentPartsOfGear( possibleGear )\n",
    "            if len(adjacentParts) == 2:\n",
    "                solution += adjacentParts[0] * adjacentParts[1]            \n",
    "        return solution\n",
    "    \n",
    "f = open(\"day3_input.txt\", 'r') \n",
    "document = f.read()\n",
    "solver = Solver( )\n",
    "solver.parse( document )"
   ]
  },
  {
   "cell_type": "markdown",
   "metadata": {},
   "source": [
    "### Unit Tests"
   ]
  },
  {
   "cell_type": "code",
   "execution_count": 71,
   "metadata": {},
   "outputs": [
    {
     "data": {
      "application/unittest.status+json": {
       "color": "yellow",
       "message": "",
       "previous": 0
      },
      "text/plain": []
     },
     "metadata": {},
     "output_type": "display_data"
    },
    {
     "data": {
      "application/unittest.status+json": {
       "color": "lightgreen",
       "message": ".\n----------------------------------------------------------------------\nRan 1 test in 0.001s\n\nOK\n",
       "previous": 0
      },
      "text/plain": [
       "Success"
      ]
     },
     "metadata": {},
     "output_type": "display_data"
    },
    {
     "name": "stdout",
     "output_type": "stream",
     "text": [
      ".\n",
      "----------------------------------------------------------------------\n",
      "Ran 1 test in 0.001s\n",
      "\n",
      "OK\n"
     ]
    },
    {
     "data": {
      "text/plain": [
       "<unittest.runner.TextTestResult run=1 errors=0 failures=0>"
      ]
     },
     "execution_count": 71,
     "metadata": {},
     "output_type": "execute_result"
    }
   ],
   "source": [
    "%%unittest_main\n",
    "\n",
    "sampleInput = \"\"\"467..114..\n",
    "...*......\n",
    "..35..633.\n",
    "......#...\n",
    "617*......\n",
    ".....+.58.\n",
    "..592.....\n",
    "......755.\n",
    "...$.*....\n",
    ".664.598..\"\"\"\n",
    "\n",
    "class MyTest(unittest.TestCase):\n",
    "    def setUp(self):\n",
    "        self.cut = Solver(  )\n",
    "        \n",
    "    def test_getPart1SolutionForSample(self):        \n",
    "        self.cut.parse( sampleInput  )\n",
    "        self.assertEqual(self.cut.getPart1Solution(), 4361)\n",
    "\n",
    "    "
   ]
  },
  {
   "cell_type": "markdown",
   "metadata": {},
   "source": [
    "### Solution"
   ]
  },
  {
   "cell_type": "code",
   "execution_count": 72,
   "metadata": {},
   "outputs": [
    {
     "name": "stdout",
     "output_type": "stream",
     "text": [
      "529618\n"
     ]
    }
   ],
   "source": [
    "print( solver.getPart1Solution(  ) )"
   ]
  },
  {
   "cell_type": "markdown",
   "metadata": {},
   "source": [
    "## Part 2\n",
    "\n",
    "The engineer finds the missing part and installs it in the engine! As the engine springs to life, you jump in the closest gondola, finally ready to ascend to the water source.\n",
    "\n",
    "You don't seem to be going very fast, though. Maybe something is still wrong? Fortunately, the gondola has a phone labeled \"help\", so you pick it up and the engineer answers.\n",
    "\n",
    "Before you can explain the situation, she suggests that you look out the window. There stands the engineer, holding a phone in one hand and waving with the other. You're going so slowly that you haven't even left the station. You exit the gondola.\n",
    "\n",
    "The missing part wasn't the only issue - one of the gears in the engine is wrong. A gear is any * symbol that is adjacent to exactly two part numbers. Its gear ratio is the result of multiplying those two numbers together.\n",
    "\n",
    "This time, you need to find the gear ratio of every gear and add them all up so that the engineer can figure out which gear needs to be replaced.\n",
    "\n",
    "Consider the same engine schematic again:\n",
    "\n",
    "```\n",
    "467..114..\n",
    "...*......\n",
    "..35..633.\n",
    "......#...\n",
    "617*......\n",
    ".....+.58.\n",
    "..592.....\n",
    "......755.\n",
    "...$.*....\n",
    ".664.598..\n",
    "```\n",
    "\n",
    "In this schematic, there are two gears. The first is in the top left; it has part numbers 467 and 35, so its gear ratio is 16345. The second gear is in the lower right; its gear ratio is 451490. (The * adjacent to 617 is not a gear because it is only adjacent to one part number.) Adding up all of the gear ratios produces 467835.\n",
    "\n",
    "### Unit Tests Part 2"
   ]
  },
  {
   "cell_type": "code",
   "execution_count": 73,
   "metadata": {},
   "outputs": [
    {
     "data": {
      "application/unittest.status+json": {
       "color": "yellow",
       "message": "",
       "previous": 0
      },
      "text/plain": []
     },
     "metadata": {},
     "output_type": "display_data"
    },
    {
     "data": {
      "application/unittest.status+json": {
       "color": "lightgreen",
       "message": ".\n----------------------------------------------------------------------\nRan 1 test in 0.002s\n\nOK\n",
       "previous": 0
      },
      "text/plain": [
       "Success"
      ]
     },
     "metadata": {},
     "output_type": "display_data"
    },
    {
     "name": "stdout",
     "output_type": "stream",
     "text": [
      ".\n",
      "----------------------------------------------------------------------\n",
      "Ran 1 test in 0.002s\n",
      "\n",
      "OK\n"
     ]
    },
    {
     "data": {
      "text/plain": [
       "<unittest.runner.TextTestResult run=1 errors=0 failures=0>"
      ]
     },
     "execution_count": 73,
     "metadata": {},
     "output_type": "execute_result"
    }
   ],
   "source": [
    "%%unittest_testcase\n",
    "def setUp(self):\n",
    "    self.cut = Solver(  )\n",
    "\n",
    "def test_getPart2SolutionForSample(self):        \n",
    "    self.cut.parse( sampleInput  )\n",
    "    self.assertEqual(self.cut.getPart2Solution( ), 467835)"
   ]
  },
  {
   "cell_type": "markdown",
   "metadata": {},
   "source": [
    "### Solution Part 2"
   ]
  },
  {
   "cell_type": "code",
   "execution_count": 74,
   "metadata": {},
   "outputs": [
    {
     "name": "stdout",
     "output_type": "stream",
     "text": [
      "77509019\n"
     ]
    }
   ],
   "source": [
    "print( solver.getPart2Solution( ) )"
   ]
  }
 ],
 "metadata": {
  "kernelspec": {
   "display_name": "Python 3",
   "language": "python",
   "name": "python3"
  },
  "language_info": {
   "codemirror_mode": {
    "name": "ipython",
    "version": 3
   },
   "file_extension": ".py",
   "mimetype": "text/x-python",
   "name": "python",
   "nbconvert_exporter": "python",
   "pygments_lexer": "ipython3",
   "version": "3.9.6"
  }
 },
 "nbformat": 4,
 "nbformat_minor": 2
}
