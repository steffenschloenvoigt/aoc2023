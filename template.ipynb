{
 "cells": [
  {
   "cell_type": "markdown",
   "metadata": {},
   "source": [
    "# Day X\n",
    "\n",
    "## Part 1\n",
    "Description\n",
    "\n",
    "### Code"
   ]
  },
  {
   "cell_type": "code",
   "execution_count": 1,
   "metadata": {},
   "outputs": [],
   "source": [
    "%reload_ext ipython_unittest\n",
    "\n",
    "class Solver:\n",
    "    def __init__(self): pass\n",
    "    \n",
    "    def parse( self, document ):\n",
    "        documentLines = document.split( '\\n' )    \n",
    "        for line in documentLines:\n",
    "            pass\n",
    "\n",
    "\n",
    "    def getPart1Solution(self):\n",
    "        solution = 0\n",
    "        return solution\n",
    "    \n",
    "    def getPart2Solution(self):\n",
    "        solution = 0\n",
    "        return solution\n",
    "    \n",
    "\n",
    "f = open(\"day2_input.txt\", 'r') \n",
    "document = f.read() \n",
    "solver = Solver( )\n",
    "solver.parse( document )   \n"
   ]
  },
  {
   "cell_type": "markdown",
   "metadata": {},
   "source": [
    "### Unit Tests"
   ]
  },
  {
   "cell_type": "code",
   "execution_count": 2,
   "metadata": {},
   "outputs": [
    {
     "data": {
      "application/unittest.status+json": {
       "color": "yellow",
       "message": "",
       "previous": 0
      },
      "text/plain": []
     },
     "metadata": {},
     "output_type": "display_data"
    },
    {
     "data": {
      "application/unittest.status+json": {
       "color": "salmon",
       "message": "F\n======================================================================\nFAIL: test_getPart1SolutionForSample (__main__.MyTest)\n----------------------------------------------------------------------\nTraceback (most recent call last):\n  File \"Cell Tests\", line 10, in test_getPart1SolutionForSample\nAssertionError: 0 != 2\n\n----------------------------------------------------------------------\nRan 1 test in 0.004s\n\nFAILED (failures=1)\n",
       "previous": 0
      },
      "text/plain": [
       "Fail"
      ]
     },
     "metadata": {},
     "output_type": "display_data"
    },
    {
     "name": "stdout",
     "output_type": "stream",
     "text": [
      "F\n",
      "======================================================================\n",
      "FAIL: test_getPart1SolutionForSample (__main__.MyTest)\n",
      "----------------------------------------------------------------------\n",
      "Traceback (most recent call last):\n",
      "  File \"Cell Tests\", line 10, in test_getPart1SolutionForSample\n",
      "AssertionError: 0 != 2\n",
      "\n",
      "----------------------------------------------------------------------\n",
      "Ran 1 test in 0.004s\n",
      "\n",
      "FAILED (failures=1)\n"
     ]
    },
    {
     "data": {
      "text/plain": [
       "<unittest.runner.TextTestResult run=1 errors=0 failures=1>"
      ]
     },
     "execution_count": 2,
     "metadata": {},
     "output_type": "execute_result"
    }
   ],
   "source": [
    "%%unittest_main\n",
    "\n",
    "sampleInput = \"\"\"\"\"\"\n",
    "\n",
    "class MyTest(unittest.TestCase):\n",
    "    def setUp(self):\n",
    "        self.cut = Solver(  )\n",
    "        \n",
    "    def test_getPart1SolutionForSample(self):        \n",
    "        self.cut.parse( sampleInput  )\n",
    "        self.assertEqual(self.cut.getPart1Solution( ), 2)\n"
   ]
  },
  {
   "cell_type": "markdown",
   "metadata": {},
   "source": [
    "### Solution Part 1"
   ]
  },
  {
   "cell_type": "code",
   "execution_count": 3,
   "metadata": {},
   "outputs": [
    {
     "name": "stdout",
     "output_type": "stream",
     "text": [
      "0\n"
     ]
    }
   ],
   "source": [
    "print( solver.getPart1Solution(  ) )"
   ]
  },
  {
   "cell_type": "markdown",
   "metadata": {},
   "source": [
    "## Part 2\n",
    "\n",
    "The Elf says they've stopped producing snow because they aren't getting any water! He isn't sure why the water stopped; however, he can show you how to get to the water source to check it out for yourself. It's just up ahead!\n",
    "\n",
    "As you continue your walk, the Elf poses a second question: in each game you played, what is the fewest number of cubes of each color that could have been in the bag to make the game possible?\n",
    "\n",
    "Again consider the example games from earlier:\n",
    "\n",
    "```\n",
    "Game 1: 3 blue, 4 red; 1 red, 2 green, 6 blue; 2 green\n",
    "Game 2: 1 blue, 2 green; 3 green, 4 blue, 1 red; 1 green, 1 blue\n",
    "Game 3: 8 green, 6 blue, 20 red; 5 blue, 4 red, 13 green; 5 green, 1 red\n",
    "Game 4: 1 green, 3 red, 6 blue; 3 green, 6 red; 3 green, 15 blue, 14 red\n",
    "Game 5: 6 red, 1 blue, 3 green; 2 blue, 1 red, 2 green\n",
    "```\n",
    "\n",
    "* In game 1, the game could have been played with as few as 4 red, 2 green, and 6 blue cubes. If any color had even one fewer cube, the game would have been impossible.\n",
    "* Game 2 could have been played with a minimum of 1 red, 3 green, and 4 blue cubes.\n",
    "* Game 3 must have been played with at least 20 red, 13 green, and 6 blue cubes.\n",
    "* Game 4 required at least 14 red, 3 green, and 15 blue cubes.\n",
    "* Game 5 needed no fewer than 6 red, 3 green, and 2 blue cubes in the bag.\n",
    "  \n",
    "The power of a set of cubes is equal to the numbers of red, green, and blue cubes multiplied together.\n",
    "\n",
    "The power of the minimum set of cubes in game 1 is 48. In games 2-5 it was 12, 1560, 630, and 36, respectively. Adding up these five powers produces the sum 2286.\n",
    "\n",
    "For each game, find the minimum set of cubes that must have been present. What is the sum of the power of these sets?\n",
    "\n",
    "### Unit Test"
   ]
  },
  {
   "cell_type": "code",
   "execution_count": 4,
   "metadata": {},
   "outputs": [
    {
     "data": {
      "application/unittest.status+json": {
       "color": "yellow",
       "message": "",
       "previous": 0
      },
      "text/plain": []
     },
     "metadata": {},
     "output_type": "display_data"
    },
    {
     "data": {
      "application/unittest.status+json": {
       "color": "salmon",
       "message": "E\n======================================================================\nERROR: test_getPart2SolutionForSample (__main__.JupyterTest)\n----------------------------------------------------------------------\nTraceback (most recent call last):\n  File \"Cell Tests\", line 2, in test_getPart2SolutionForSample\nAttributeError: 'JupyterTest' object has no attribute 'cut'\n\n----------------------------------------------------------------------\nRan 1 test in 0.003s\n\nFAILED (errors=1)\n",
       "previous": 0
      },
      "text/plain": [
       "Fail"
      ]
     },
     "metadata": {},
     "output_type": "display_data"
    },
    {
     "name": "stdout",
     "output_type": "stream",
     "text": [
      "E\n",
      "======================================================================\n",
      "ERROR: test_getPart2SolutionForSample (__main__.JupyterTest)\n",
      "----------------------------------------------------------------------\n",
      "Traceback (most recent call last):\n",
      "  File \"Cell Tests\", line 2, in test_getPart2SolutionForSample\n",
      "AttributeError: 'JupyterTest' object has no attribute 'cut'\n",
      "\n",
      "----------------------------------------------------------------------\n",
      "Ran 1 test in 0.003s\n",
      "\n",
      "FAILED (errors=1)\n"
     ]
    },
    {
     "data": {
      "text/plain": [
       "<unittest.runner.TextTestResult run=1 errors=1 failures=0>"
      ]
     },
     "execution_count": 4,
     "metadata": {},
     "output_type": "execute_result"
    }
   ],
   "source": [
    "%%unittest_testcase\n",
    "def setUp(self):\n",
    "    self.cut = Solver(  )\n",
    "\n",
    "def test_getPart2SolutionForSample(self):        \n",
    "    self.cut.parse( sampleInput  )\n",
    "    self.assertEqual(self.cut.getPart2Solution( ), 2)\n",
    "\n"
   ]
  },
  {
   "cell_type": "markdown",
   "metadata": {},
   "source": [
    "### Solution"
   ]
  },
  {
   "cell_type": "code",
   "execution_count": 6,
   "metadata": {},
   "outputs": [
    {
     "name": "stdout",
     "output_type": "stream",
     "text": [
      "0\n"
     ]
    }
   ],
   "source": [
    "print( solver.getPart2Solution( ) )"
   ]
  }
 ],
 "metadata": {
  "kernelspec": {
   "display_name": "Python 3",
   "language": "python",
   "name": "python3"
  },
  "language_info": {
   "codemirror_mode": {
    "name": "ipython",
    "version": 3
   },
   "file_extension": ".py",
   "mimetype": "text/x-python",
   "name": "python",
   "nbconvert_exporter": "python",
   "pygments_lexer": "ipython3",
   "version": "3.9.6"
  }
 },
 "nbformat": 4,
 "nbformat_minor": 2
}
