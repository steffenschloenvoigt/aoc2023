{
 "cells": [
  {
   "cell_type": "markdown",
   "metadata": {},
   "source": [
    "# Day 4\n",
    "\n",
    "The gondola takes you up. Strangely, though, the ground doesn't seem to be coming with you; you're not climbing a mountain. As the circle of Snow Island recedes below you, an entire new landmass suddenly appears above you! The gondola carries you to the surface of the new island and lurches into the station.\n",
    "\n",
    "As you exit the gondola, the first thing you notice is that the air here is much warmer than it was on Snow Island. It's also quite humid. Is this where the water source is?\n",
    "\n",
    "The next thing you notice is an Elf sitting on the floor across the station in what seems to be a pile of colorful square cards.\n",
    "\n",
    "\"Oh! Hello!\" The Elf excitedly runs over to you. \"How may I be of service?\" You ask about water sources.\n",
    "\n",
    "\"I'm not sure; I just operate the gondola lift. That does sound like something we'd have, though - this is Island Island, after all! I bet the gardener would know. He's on a different island, though - er, the small kind surrounded by water, not the floating kind. We really need to come up with a better naming scheme. Tell you what: if you can help me with something quick, I'll let you borrow my boat and you can go visit the gardener. I got all these scratchcards as a gift, but I can't figure out what I've won.\"\n",
    "\n",
    "## Part 1\n",
    "The Elf leads you over to the pile of colorful cards. There, you discover dozens of scratchcards, all with their opaque covering already scratched off. Picking one up, it looks like each card has two lists of numbers separated by a vertical bar (|): a list of winning numbers and then a list of numbers you have. You organize the information into a table (your puzzle input).\n",
    "\n",
    "As far as the Elf has been able to figure out, you have to figure out which of the numbers you have appear in the list of winning numbers. The first match makes the card worth one point and each match after the first doubles the point value of that card.\n",
    "\n",
    "For example:\n",
    "\n",
    "```\n",
    "Card 1: 41 48 83 86 17 | 83 86  6 31 17  9 48 53\n",
    "Card 2: 13 32 20 16 61 | 61 30 68 82 17 32 24 19\n",
    "Card 3:  1 21 53 59 44 | 69 82 63 72 16 21 14  1\n",
    "Card 4: 41 92 73 84 69 | 59 84 76 51 58  5 54 83\n",
    "Card 5: 87 83 26 28 32 | 88 30 70 12 93 22 82 36\n",
    "Card 6: 31 18 13 56 72 | 74 77 10 23 35 67 36 11\n",
    "```\n",
    "\n",
    "In the above example, card 1 has five winning numbers (41, 48, 83, 86, and 17) and eight numbers you have (83, 86, 6, 31, 17, 9, 48, and 53). Of the numbers you have, four of them (48, 83, 17, and 86) are winning numbers! That means card 1 is worth 8 points (1 for the first match, then doubled three times for each of the three matches after the first).\n",
    "\n",
    "Card 2 has two winning numbers (32 and 61), so it is worth 2 points.\n",
    "Card 3 has two winning numbers (1 and 21), so it is worth 2 points.\n",
    "Card 4 has one winning number (84), so it is worth 1 point.\n",
    "Card 5 has no winning numbers, so it is worth no points.\n",
    "Card 6 has no winning numbers, so it is worth no points.\n",
    "So, in this example, the Elf's pile of scratchcards is worth 13 points.\n",
    "\n",
    "Take a seat in the large pile of colorful cards. How many points are they worth in total?\n",
    "\n",
    "### Code"
   ]
  },
  {
   "cell_type": "code",
   "execution_count": 45,
   "metadata": {},
   "outputs": [],
   "source": [
    "%reload_ext ipython_unittest\n",
    "import regex as re\n",
    "import math\n",
    "\n",
    "class Card:\n",
    "    def __init__(self,id,winningNumbers,numbersYouHave):\n",
    "        self.id = id\n",
    "        self.winningNumbers = winningNumbers\n",
    "        self.numbersYouHave = numbersYouHave\n",
    "    \n",
    "    def parseNumberList(numberList ):\n",
    "        numbers = re.findall( '\\d+', numberList )\n",
    "        return numbers\n",
    "    \n",
    "    def fromString( line ):\n",
    "        splittedLine = line.split( ':' )\n",
    "        numberLists = splittedLine[1].split( '|' )        \n",
    "        return Card( splittedLine[0], Card.parseNumberList( numberLists[0] ), Card.parseNumberList( numberLists[1] ) )        \n",
    "    \n",
    "    def getMatchingWinningNumbers( self ):\n",
    "        result = []\n",
    "        for winningNumber in self.winningNumbers:\n",
    "            if winningNumber in self.numbersYouHave:\n",
    "                result.append( int( winningNumber ) )\n",
    "        return result\n",
    "    \n",
    "    def getPoints(self):        \n",
    "        myWinningNumbers = self.getMatchingWinningNumbers()\n",
    "        if len( myWinningNumbers ) > 0: \n",
    "            return math.pow( 2, len( myWinningNumbers )-1 )\n",
    "        return 0\n",
    "    \n",
    "        \n",
    "        \n",
    "    \n",
    "class Solver:\n",
    "    def __init__(self): pass\n",
    "    \n",
    "    def parse( self, document ):\n",
    "        self.cards = []\n",
    "        documentLines = document.split( '\\n' )    \n",
    "        for line in documentLines:\n",
    "            self.cards.append( Card.fromString( line ) )\n",
    "\n",
    "    def getPart1Solution(self):\n",
    "        solution = 0\n",
    "        for card in self.cards:\n",
    "            solution += card.getPoints()\n",
    "        return solution\n",
    "    \n",
    "    def getPart2Solution(self):\n",
    "        solution = 0\n",
    "        # Create a List of factors\n",
    "        cardFactor = []\n",
    "        for i in range( len( self.cards ) ):\n",
    "            cardFactor.append( 1 )\n",
    "        currentCardNr = 0\n",
    "        for card in self.cards:            \n",
    "            solution += cardFactor[ currentCardNr ]\n",
    "            numberOfMatches = len( card.getMatchingWinningNumbers( ) )            \n",
    "            print( \"You have \" + str( cardFactor[ currentCardNr ] ) + \" Instances of \" + card.id + \" and it has \" + str( numberOfMatches ) + \" matching Numbers.\"  )\n",
    "            if numberOfMatches > 0:\n",
    "                for x in range( 0, numberOfMatches ):\n",
    "                    #print( \"You win one instance of Card \" + str( currentCardNr + x + 2 ) )\n",
    "                    cardFactor[ currentCardNr + x + 1 ] += cardFactor[ currentCardNr ]                  \n",
    "            currentCardNr += 1 \n",
    "        return solution\n",
    "    \n",
    "\n",
    "f = open(\"day4_input.txt\", 'r') \n",
    "document = f.read() \n",
    "solver = Solver( )\n",
    "solver.parse( document )   \n"
   ]
  },
  {
   "cell_type": "markdown",
   "metadata": {},
   "source": [
    "### Unit Tests"
   ]
  },
  {
   "cell_type": "code",
   "execution_count": 16,
   "metadata": {},
   "outputs": [
    {
     "data": {
      "application/unittest.status+json": {
       "color": "yellow",
       "message": "",
       "previous": 0
      },
      "text/plain": []
     },
     "metadata": {},
     "output_type": "display_data"
    },
    {
     "data": {
      "application/unittest.status+json": {
       "color": "lightgreen",
       "message": "..\n----------------------------------------------------------------------\nRan 2 tests in 0.002s\n\nOK\n",
       "previous": 0
      },
      "text/plain": [
       "Success"
      ]
     },
     "metadata": {},
     "output_type": "display_data"
    },
    {
     "name": "stdout",
     "output_type": "stream",
     "text": [
      "..\n",
      "----------------------------------------------------------------------\n",
      "Ran 2 tests in 0.002s\n",
      "\n",
      "OK\n"
     ]
    },
    {
     "data": {
      "text/plain": [
       "<unittest.runner.TextTestResult run=2 errors=0 failures=0>"
      ]
     },
     "execution_count": 16,
     "metadata": {},
     "output_type": "execute_result"
    }
   ],
   "source": [
    "%%unittest_main\n",
    "\n",
    "sampleInput = \"\"\"Card 1: 41 48 83 86 17 | 83 86  6 31 17  9 48 53\n",
    "Card 2: 13 32 20 16 61 | 61 30 68 82 17 32 24 19\n",
    "Card 3:  1 21 53 59 44 | 69 82 63 72 16 21 14  1\n",
    "Card 4: 41 92 73 84 69 | 59 84 76 51 58  5 54 83\n",
    "Card 5: 87 83 26 28 32 | 88 30 70 12 93 22 82 36\n",
    "Card 6: 31 18 13 56 72 | 74 77 10 23 35 67 36 11\"\"\"\n",
    "\n",
    "class MyTest(unittest.TestCase):\n",
    "    def setUp(self):\n",
    "        self.cut = Solver(  )\n",
    "        \n",
    "    def test_getCardPointsCard1( self ):\n",
    "        card = Card.fromString( 'Card 1: 41 48 83 86 17 | 83 86  6 31 17  9 48 53' )\n",
    "        self.assertEqual( card.getPoints( ), 8 )\n",
    "\n",
    "    def test_getPart1SolutionForSample(self):        \n",
    "        self.cut.parse( sampleInput  )\n",
    "        self.assertEqual(self.cut.getPart1Solution( ), 13)\n"
   ]
  },
  {
   "cell_type": "markdown",
   "metadata": {},
   "source": [
    "### Solution Part 1"
   ]
  },
  {
   "cell_type": "code",
   "execution_count": 17,
   "metadata": {},
   "outputs": [
    {
     "name": "stdout",
     "output_type": "stream",
     "text": [
      "20855.0\n"
     ]
    }
   ],
   "source": [
    "print( solver.getPart1Solution(  ) )"
   ]
  },
  {
   "cell_type": "markdown",
   "metadata": {},
   "source": [
    "## Part 2\n",
    "\n",
    "Just as you're about to report your findings to the Elf, one of you realizes that the rules have actually been printed on the back of every card this whole time.\n",
    "\n",
    "There's no such thing as \"points\". Instead, scratchcards only cause you to win more scratchcards equal to the number of winning numbers you have.\n",
    "\n",
    "Specifically, you win copies of the scratchcards below the winning card equal to the number of matches. So, if card 10 were to have 5 matching numbers, you would win one copy each of cards 11, 12, 13, 14, and 15.\n",
    "\n",
    "Copies of scratchcards are scored like normal scratchcards and have the same card number as the card they copied. So, if you win a copy of card 10 and it has 5 matching numbers, it would then win a copy of the same cards that the original card 10 won: cards 11, 12, 13, 14, and 15. This process repeats until none of the copies cause you to win any more cards. (Cards will never make you copy a card past the end of the table.)\n",
    "\n",
    "This time, the above example goes differently:\n",
    "\n",
    "```\n",
    "Card 1: 41 48 83 86 17 | 83 86  6 31 17  9 48 53\n",
    "Card 2: 13 32 20 16 61 | 61 30 68 82 17 32 24 19\n",
    "Card 3:  1 21 53 59 44 | 69 82 63 72 16 21 14  1\n",
    "Card 4: 41 92 73 84 69 | 59 84 76 51 58  5 54 83\n",
    "Card 5: 87 83 26 28 32 | 88 30 70 12 93 22 82 36\n",
    "Card 6: 31 18 13 56 72 | 74 77 10 23 35 67 36 11\n",
    "```\n",
    "\n",
    "* Card 1 has four matching numbers, so you win one copy each of the next four cards: cards 2, 3, 4, and 5.\n",
    "* Your original card 2 has two matching numbers, so you win one copy each of cards 3 and 4.\n",
    "* Your copy of card 2 also wins one copy each of cards 3 and 4.\n",
    "* Your four instances of card 3 (one original and three copies) have two matching numbers, so you win four copies each of cards 4 and 5.\n",
    "* Your eight instances of card 4 (one original and seven copies) have one matching number, so you win eight copies of card 5.\n",
    "* Your fourteen instances of card 5 (one original and thirteen copies) have no matching numbers and win no more cards.\n",
    "* Your one instance of card 6 (one original) has no matching numbers and wins no more cards.\n",
    "\n",
    "Once all of the originals and copies have been processed, you end up with 1 instance of card 1, 2 instances of card 2, 4 instances of card 3, 8 instances of card 4, 14 instances of card 5, and 1 instance of card 6. In total, this example pile of scratchcards causes you to ultimately have 30 scratchcards!\n",
    "\n",
    "Process all of the original and copied scratchcards until no more scratchcards are won. Including the original set of scratchcards, how many total scratchcards do you end up with?\n",
    "\n",
    "### Unit Test"
   ]
  },
  {
   "cell_type": "code",
   "execution_count": 46,
   "metadata": {},
   "outputs": [
    {
     "data": {
      "application/unittest.status+json": {
       "color": "yellow",
       "message": "",
       "previous": 0
      },
      "text/plain": []
     },
     "metadata": {},
     "output_type": "display_data"
    },
    {
     "name": "stdout",
     "output_type": "stream",
     "text": [
      "You have 1 Instances of Card 1 and it has 4 matching Numbers.\n",
      "You have 2 Instances of Card 2 and it has 2 matching Numbers.\n",
      "You have 4 Instances of Card 3 and it has 2 matching Numbers.\n",
      "You have 8 Instances of Card 4 and it has 1 matching Numbers.\n",
      "You have 14 Instances of Card 5 and it has 0 matching Numbers.\n",
      "You have 1 Instances of Card 6 and it has 0 matching Numbers.\n"
     ]
    },
    {
     "data": {
      "application/unittest.status+json": {
       "color": "lightgreen",
       "message": ".\n----------------------------------------------------------------------\nRan 1 test in 0.002s\n\nOK\n",
       "previous": 0
      },
      "text/plain": [
       "Success"
      ]
     },
     "metadata": {},
     "output_type": "display_data"
    },
    {
     "name": "stdout",
     "output_type": "stream",
     "text": [
      ".\n",
      "----------------------------------------------------------------------\n",
      "Ran 1 test in 0.002s\n",
      "\n",
      "OK\n"
     ]
    },
    {
     "data": {
      "text/plain": [
       "<unittest.runner.TextTestResult run=1 errors=0 failures=0>"
      ]
     },
     "execution_count": 46,
     "metadata": {},
     "output_type": "execute_result"
    }
   ],
   "source": [
    "%%unittest_testcase\n",
    "def setUp(self):\n",
    "    self.cut = Solver(  )\n",
    "\n",
    "def test_getPart2SolutionForSample(self):        \n",
    "    self.cut.parse( sampleInput  )\n",
    "    self.assertEqual(self.cut.getPart2Solution( ), 30)\n",
    "\n"
   ]
  },
  {
   "cell_type": "markdown",
   "metadata": {},
   "source": [
    "### Solution"
   ]
  },
  {
   "cell_type": "code",
   "execution_count": 47,
   "metadata": {},
   "outputs": [
    {
     "name": "stdout",
     "output_type": "stream",
     "text": [
      "You have 1 Instances of Card   1 and it has 10 matching Numbers.\n",
      "You have 2 Instances of Card   2 and it has 10 matching Numbers.\n",
      "You have 4 Instances of Card   3 and it has 2 matching Numbers.\n",
      "You have 8 Instances of Card   4 and it has 1 matching Numbers.\n",
      "You have 16 Instances of Card   5 and it has 0 matching Numbers.\n",
      "You have 4 Instances of Card   6 and it has 7 matching Numbers.\n",
      "You have 8 Instances of Card   7 and it has 10 matching Numbers.\n",
      "You have 16 Instances of Card   8 and it has 2 matching Numbers.\n",
      "You have 32 Instances of Card   9 and it has 7 matching Numbers.\n",
      "You have 64 Instances of Card  10 and it has 3 matching Numbers.\n",
      "You have 112 Instances of Card  11 and it has 10 matching Numbers.\n",
      "You have 223 Instances of Card  12 and it has 1 matching Numbers.\n",
      "You have 444 Instances of Card  13 and it has 3 matching Numbers.\n",
      "You have 597 Instances of Card  14 and it has 1 matching Numbers.\n",
      "You have 1194 Instances of Card  15 and it has 3 matching Numbers.\n",
      "You have 1791 Instances of Card  16 and it has 1 matching Numbers.\n",
      "You have 3106 Instances of Card  17 and it has 4 matching Numbers.\n",
      "You have 4413 Instances of Card  18 and it has 2 matching Numbers.\n",
      "You have 7632 Instances of Card  19 and it has 2 matching Numbers.\n",
      "You have 15264 Instances of Card  20 and it has 0 matching Numbers.\n",
      "You have 10851 Instances of Card  21 and it has 1 matching Numbers.\n",
      "You have 10852 Instances of Card  22 and it has 0 matching Numbers.\n",
      "You have 1 Instances of Card  23 and it has 10 matching Numbers.\n",
      "You have 2 Instances of Card  24 and it has 10 matching Numbers.\n",
      "You have 4 Instances of Card  25 and it has 6 matching Numbers.\n",
      "You have 8 Instances of Card  26 and it has 10 matching Numbers.\n",
      "You have 16 Instances of Card  27 and it has 10 matching Numbers.\n",
      "You have 32 Instances of Card  28 and it has 1 matching Numbers.\n",
      "You have 64 Instances of Card  29 and it has 7 matching Numbers.\n",
      "You have 96 Instances of Card  30 and it has 8 matching Numbers.\n",
      "You have 192 Instances of Card  31 and it has 10 matching Numbers.\n",
      "You have 380 Instances of Card  32 and it has 1 matching Numbers.\n",
      "You have 760 Instances of Card  33 and it has 3 matching Numbers.\n",
      "You have 1139 Instances of Card  34 and it has 4 matching Numbers.\n",
      "You have 2276 Instances of Card  35 and it has 4 matching Numbers.\n",
      "You have 4552 Instances of Card  36 and it has 6 matching Numbers.\n",
      "You have 8272 Instances of Card  37 and it has 1 matching Numbers.\n",
      "You have 16528 Instances of Card  38 and it has 3 matching Numbers.\n",
      "You have 23549 Instances of Card  39 and it has 3 matching Numbers.\n",
      "You have 44822 Instances of Card  40 and it has 1 matching Numbers.\n",
      "You have 89644 Instances of Card  41 and it has 0 matching Numbers.\n",
      "You have 28102 Instances of Card  42 and it has 0 matching Numbers.\n",
      "You have 1 Instances of Card  43 and it has 10 matching Numbers.\n",
      "You have 2 Instances of Card  44 and it has 10 matching Numbers.\n",
      "You have 4 Instances of Card  45 and it has 10 matching Numbers.\n",
      "You have 8 Instances of Card  46 and it has 8 matching Numbers.\n",
      "You have 16 Instances of Card  47 and it has 10 matching Numbers.\n",
      "You have 32 Instances of Card  48 and it has 2 matching Numbers.\n",
      "You have 64 Instances of Card  49 and it has 7 matching Numbers.\n",
      "You have 128 Instances of Card  50 and it has 0 matching Numbers.\n",
      "You have 96 Instances of Card  51 and it has 3 matching Numbers.\n",
      "You have 192 Instances of Card  52 and it has 10 matching Numbers.\n",
      "You have 384 Instances of Card  53 and it has 6 matching Numbers.\n",
      "You have 767 Instances of Card  54 and it has 3 matching Numbers.\n",
      "You have 1428 Instances of Card  55 and it has 4 matching Numbers.\n",
      "You have 2852 Instances of Card  56 and it has 5 matching Numbers.\n",
      "You have 5640 Instances of Card  57 and it has 3 matching Numbers.\n",
      "You have 10497 Instances of Card  58 and it has 2 matching Numbers.\n",
      "You have 20994 Instances of Card  59 and it has 4 matching Numbers.\n",
      "You have 40176 Instances of Card  60 and it has 2 matching Numbers.\n",
      "You have 64215 Instances of Card  61 and it has 2 matching Numbers.\n",
      "You have 125578 Instances of Card  62 and it has 1 matching Numbers.\n",
      "You have 210788 Instances of Card  63 and it has 0 matching Numbers.\n",
      "You have 1 Instances of Card  64 and it has 10 matching Numbers.\n",
      "You have 2 Instances of Card  65 and it has 4 matching Numbers.\n",
      "You have 4 Instances of Card  66 and it has 10 matching Numbers.\n",
      "You have 8 Instances of Card  67 and it has 10 matching Numbers.\n",
      "You have 16 Instances of Card  68 and it has 8 matching Numbers.\n",
      "You have 32 Instances of Card  69 and it has 2 matching Numbers.\n",
      "You have 62 Instances of Card  70 and it has 3 matching Numbers.\n",
      "You have 124 Instances of Card  71 and it has 8 matching Numbers.\n",
      "You have 216 Instances of Card  72 and it has 8 matching Numbers.\n",
      "You have 432 Instances of Card  73 and it has 10 matching Numbers.\n",
      "You have 802 Instances of Card  74 and it has 4 matching Numbers.\n",
      "You have 1603 Instances of Card  75 and it has 2 matching Numbers.\n",
      "You have 3206 Instances of Card  76 and it has 4 matching Numbers.\n",
      "You have 6392 Instances of Card  77 and it has 2 matching Numbers.\n",
      "You have 11173 Instances of Card  78 and it has 6 matching Numbers.\n",
      "You have 21544 Instances of Card  79 and it has 3 matching Numbers.\n",
      "You have 36572 Instances of Card  80 and it has 4 matching Numbers.\n",
      "You have 69722 Instances of Card  81 and it has 1 matching Numbers.\n",
      "You have 139444 Instances of Card  82 and it has 4 matching Numbers.\n",
      "You have 187622 Instances of Card  83 and it has 1 matching Numbers.\n",
      "You have 374812 Instances of Card  84 and it has 2 matching Numbers.\n",
      "You have 514257 Instances of Card  85 and it has 1 matching Numbers.\n",
      "You have 1028514 Instances of Card  86 and it has 0 matching Numbers.\n",
      "You have 1 Instances of Card  87 and it has 0 matching Numbers.\n",
      "You have 1 Instances of Card  88 and it has 10 matching Numbers.\n",
      "You have 2 Instances of Card  89 and it has 10 matching Numbers.\n",
      "You have 4 Instances of Card  90 and it has 9 matching Numbers.\n",
      "You have 8 Instances of Card  91 and it has 6 matching Numbers.\n",
      "You have 16 Instances of Card  92 and it has 7 matching Numbers.\n",
      "You have 32 Instances of Card  93 and it has 6 matching Numbers.\n",
      "You have 64 Instances of Card  94 and it has 5 matching Numbers.\n",
      "You have 128 Instances of Card  95 and it has 3 matching Numbers.\n",
      "You have 256 Instances of Card  96 and it has 1 matching Numbers.\n",
      "You have 512 Instances of Card  97 and it has 2 matching Numbers.\n",
      "You have 760 Instances of Card  98 and it has 2 matching Numbers.\n",
      "You have 1391 Instances of Card  99 and it has 1 matching Numbers.\n",
      "You have 2152 Instances of Card 100 and it has 2 matching Numbers.\n",
      "You have 2153 Instances of Card 101 and it has 1 matching Numbers.\n",
      "You have 4306 Instances of Card 102 and it has 0 matching Numbers.\n",
      "You have 1 Instances of Card 103 and it has 6 matching Numbers.\n",
      "You have 2 Instances of Card 104 and it has 8 matching Numbers.\n",
      "You have 4 Instances of Card 105 and it has 6 matching Numbers.\n",
      "You have 8 Instances of Card 106 and it has 4 matching Numbers.\n",
      "You have 16 Instances of Card 107 and it has 3 matching Numbers.\n",
      "You have 32 Instances of Card 108 and it has 8 matching Numbers.\n",
      "You have 64 Instances of Card 109 and it has 2 matching Numbers.\n",
      "You have 127 Instances of Card 110 and it has 2 matching Numbers.\n",
      "You have 230 Instances of Card 111 and it has 1 matching Numbers.\n",
      "You have 392 Instances of Card 112 and it has 4 matching Numbers.\n",
      "You have 425 Instances of Card 113 and it has 1 matching Numbers.\n",
      "You have 850 Instances of Card 114 and it has 3 matching Numbers.\n",
      "You have 1275 Instances of Card 115 and it has 0 matching Numbers.\n",
      "You have 1275 Instances of Card 116 and it has 0 matching Numbers.\n",
      "You have 851 Instances of Card 117 and it has 0 matching Numbers.\n",
      "You have 1 Instances of Card 118 and it has 3 matching Numbers.\n",
      "You have 2 Instances of Card 119 and it has 0 matching Numbers.\n",
      "You have 2 Instances of Card 120 and it has 10 matching Numbers.\n",
      "You have 4 Instances of Card 121 and it has 2 matching Numbers.\n",
      "You have 7 Instances of Card 122 and it has 0 matching Numbers.\n",
      "You have 7 Instances of Card 123 and it has 1 matching Numbers.\n",
      "You have 10 Instances of Card 124 and it has 10 matching Numbers.\n",
      "You have 13 Instances of Card 125 and it has 5 matching Numbers.\n",
      "You have 26 Instances of Card 126 and it has 8 matching Numbers.\n",
      "You have 52 Instances of Card 127 and it has 0 matching Numbers.\n",
      "You have 52 Instances of Card 128 and it has 8 matching Numbers.\n",
      "You have 104 Instances of Card 129 and it has 1 matching Numbers.\n",
      "You have 208 Instances of Card 130 and it has 2 matching Numbers.\n",
      "You have 297 Instances of Card 131 and it has 6 matching Numbers.\n",
      "You have 594 Instances of Card 132 and it has 3 matching Numbers.\n",
      "You have 980 Instances of Card 133 and it has 4 matching Numbers.\n",
      "You have 1960 Instances of Card 134 and it has 4 matching Numbers.\n",
      "You have 3884 Instances of Card 135 and it has 0 matching Numbers.\n",
      "You have 3290 Instances of Card 136 and it has 1 matching Numbers.\n",
      "You have 6528 Instances of Card 137 and it has 1 matching Numbers.\n",
      "You have 8489 Instances of Card 138 and it has 0 matching Numbers.\n",
      "You have 1 Instances of Card 139 and it has 10 matching Numbers.\n",
      "You have 2 Instances of Card 140 and it has 10 matching Numbers.\n",
      "You have 4 Instances of Card 141 and it has 10 matching Numbers.\n",
      "You have 8 Instances of Card 142 and it has 3 matching Numbers.\n",
      "You have 16 Instances of Card 143 and it has 10 matching Numbers.\n",
      "You have 32 Instances of Card 144 and it has 7 matching Numbers.\n",
      "You have 64 Instances of Card 145 and it has 2 matching Numbers.\n",
      "You have 120 Instances of Card 146 and it has 10 matching Numbers.\n",
      "You have 240 Instances of Card 147 and it has 10 matching Numbers.\n",
      "You have 416 Instances of Card 148 and it has 10 matching Numbers.\n",
      "You have 832 Instances of Card 149 and it has 10 matching Numbers.\n",
      "You have 1663 Instances of Card 150 and it has 6 matching Numbers.\n",
      "You have 3324 Instances of Card 151 and it has 2 matching Numbers.\n",
      "You have 6612 Instances of Card 152 and it has 2 matching Numbers.\n",
      "You have 13224 Instances of Card 153 and it has 1 matching Numbers.\n",
      "You have 23108 Instances of Card 154 and it has 8 matching Numbers.\n",
      "You have 26380 Instances of Card 155 and it has 3 matching Numbers.\n",
      "You have 52760 Instances of Card 156 and it has 0 matching Numbers.\n",
      "You have 50977 Instances of Card 157 and it has 5 matching Numbers.\n",
      "You have 101714 Instances of Card 158 and it has 2 matching Numbers.\n",
      "You have 176632 Instances of Card 159 and it has 2 matching Numbers.\n",
      "You have 352432 Instances of Card 160 and it has 3 matching Numbers.\n",
      "You have 603150 Instances of Card 161 and it has 0 matching Numbers.\n",
      "You have 426518 Instances of Card 162 and it has 0 matching Numbers.\n",
      "You have 352433 Instances of Card 163 and it has 0 matching Numbers.\n",
      "You have 1 Instances of Card 164 and it has 8 matching Numbers.\n",
      "You have 2 Instances of Card 165 and it has 6 matching Numbers.\n",
      "You have 4 Instances of Card 166 and it has 9 matching Numbers.\n",
      "You have 8 Instances of Card 167 and it has 4 matching Numbers.\n",
      "You have 16 Instances of Card 168 and it has 8 matching Numbers.\n",
      "You have 32 Instances of Card 169 and it has 6 matching Numbers.\n",
      "You have 64 Instances of Card 170 and it has 7 matching Numbers.\n",
      "You have 128 Instances of Card 171 and it has 7 matching Numbers.\n",
      "You have 246 Instances of Card 172 and it has 3 matching Numbers.\n",
      "You have 491 Instances of Card 173 and it has 1 matching Numbers.\n",
      "You have 982 Instances of Card 174 and it has 9 matching Numbers.\n",
      "You have 1473 Instances of Card 175 and it has 0 matching Numbers.\n",
      "You have 1191 Instances of Card 176 and it has 5 matching Numbers.\n",
      "You have 2366 Instances of Card 177 and it has 0 matching Numbers.\n",
      "You have 2302 Instances of Card 178 and it has 1 matching Numbers.\n",
      "You have 4476 Instances of Card 179 and it has 2 matching Numbers.\n",
      "You have 6650 Instances of Card 180 and it has 0 matching Numbers.\n",
      "You have 6650 Instances of Card 181 and it has 2 matching Numbers.\n",
      "You have 7633 Instances of Card 182 and it has 0 matching Numbers.\n",
      "You have 7633 Instances of Card 183 and it has 0 matching Numbers.\n",
      "You have 1 Instances of Card 184 and it has 7 matching Numbers.\n",
      "You have 2 Instances of Card 185 and it has 10 matching Numbers.\n",
      "You have 4 Instances of Card 186 and it has 9 matching Numbers.\n",
      "You have 8 Instances of Card 187 and it has 10 matching Numbers.\n",
      "You have 16 Instances of Card 188 and it has 3 matching Numbers.\n",
      "You have 32 Instances of Card 189 and it has 9 matching Numbers.\n",
      "You have 64 Instances of Card 190 and it has 2 matching Numbers.\n",
      "You have 128 Instances of Card 191 and it has 8 matching Numbers.\n",
      "You have 239 Instances of Card 192 and it has 8 matching Numbers.\n",
      "You have 414 Instances of Card 193 and it has 7 matching Numbers.\n",
      "You have 828 Instances of Card 194 and it has 1 matching Numbers.\n",
      "You have 1656 Instances of Card 195 and it has 2 matching Numbers.\n",
      "You have 2478 Instances of Card 196 and it has 3 matching Numbers.\n",
      "You have 4956 Instances of Card 197 and it has 2 matching Numbers.\n",
      "You have 8248 Instances of Card 198 and it has 0 matching Numbers.\n",
      "You have 8216 Instances of Card 199 and it has 2 matching Numbers.\n",
      "You have 8870 Instances of Card 200 and it has 1 matching Numbers.\n",
      "You have 17087 Instances of Card 201 and it has 0 matching Numbers.\n",
      "5489600\n"
     ]
    }
   ],
   "source": [
    "print( solver.getPart2Solution( ) )"
   ]
  }
 ],
 "metadata": {
  "kernelspec": {
   "display_name": "Python 3",
   "language": "python",
   "name": "python3"
  },
  "language_info": {
   "codemirror_mode": {
    "name": "ipython",
    "version": 3
   },
   "file_extension": ".py",
   "mimetype": "text/x-python",
   "name": "python",
   "nbconvert_exporter": "python",
   "pygments_lexer": "ipython3",
   "version": "3.9.6"
  }
 },
 "nbformat": 4,
 "nbformat_minor": 2
}
